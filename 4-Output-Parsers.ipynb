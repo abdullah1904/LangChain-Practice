{
 "cells": [
  {
   "cell_type": "markdown",
   "id": "9055f028",
   "metadata": {},
   "source": [
    "### Importing Packages"
   ]
  },
  {
   "cell_type": "code",
   "execution_count": 20,
   "id": "7da51a57",
   "metadata": {},
   "outputs": [
    {
     "data": {
      "text/plain": [
       "True"
      ]
     },
     "execution_count": 20,
     "metadata": {},
     "output_type": "execute_result"
    }
   ],
   "source": [
    "from langchain_groq import ChatGroq\n",
    "from dotenv import load_dotenv\n",
    "from langchain_core.output_parsers import StrOutputParser, JsonOutputParser, PydanticOutputParser\n",
    "from langchain.output_parsers import StructuredOutputParser, ResponseSchema\n",
    "from langchain_core.prompts import PromptTemplate\n",
    "from pydantic import BaseModel, Field\n",
    "\n",
    "load_dotenv()"
   ]
  },
  {
   "cell_type": "markdown",
   "id": "2960b9fd",
   "metadata": {},
   "source": [
    "### Model Setup"
   ]
  },
  {
   "cell_type": "code",
   "execution_count": 6,
   "id": "17601c61",
   "metadata": {},
   "outputs": [],
   "source": [
    "model = ChatGroq(\n",
    "    model=\"meta-llama/llama-4-maverick-17b-128e-instruct\",\n",
    "    temperature=0.7,\n",
    "    max_tokens=1024,\n",
    ")"
   ]
  },
  {
   "cell_type": "markdown",
   "id": "570aa717",
   "metadata": {},
   "source": [
    "### StrOuput Parser"
   ]
  },
  {
   "cell_type": "code",
   "execution_count": 12,
   "id": "15b1aad8",
   "metadata": {},
   "outputs": [],
   "source": [
    "parser = StrOutputParser()\n",
    "\n",
    "template1 = PromptTemplate(\n",
    "    template='Write a detailed report on {topic}',\n",
    "    input_variables=['topic']\n",
    ")\n",
    "\n",
    "template2 = PromptTemplate(\n",
    "    template='Write a 5 line summary on the following text. /n {text}',\n",
    "    input_variables=['text']\n",
    ")\n",
    "\n",
    "chain = template1 | model | parser | template2 | model | parser"
   ]
  },
  {
   "cell_type": "code",
   "execution_count": 9,
   "id": "0d2d8979",
   "metadata": {},
   "outputs": [
    {
     "name": "stdout",
     "output_type": "stream",
     "text": [
      "Here is a 5-line summary of the text:\n",
      "\n",
      "A black hole is a region in space with such strong gravity that nothing, including light, can escape. Black holes are formed when a massive star collapses, causing a supernova explosion, and can be characterized by their mass, spin, and charge. There are four types of black holes, including stellar, supermassive, intermediate-mass, and primordial black holes. Astronomers detect black holes by observing their effects on the surrounding environment, such as X-rays, gamma rays, and gravitational waves. The study of black holes has led to a deeper understanding of the fundamental laws of physics, including general relativity and quantum mechanics.\n"
     ]
    }
   ],
   "source": [
    "result = chain.invoke({'topic':'black hole'})\n",
    "print(result)"
   ]
  },
  {
   "cell_type": "markdown",
   "id": "9f1e7226",
   "metadata": {},
   "source": [
    "### JSONOuput Parser"
   ]
  },
  {
   "cell_type": "code",
   "execution_count": 13,
   "id": "cc5cc816",
   "metadata": {},
   "outputs": [],
   "source": [
    "parser = JsonOutputParser()\n",
    "\n",
    "template = PromptTemplate(\n",
    "    template='Give me 5 facts about {topic} \\n {format_instruction}',\n",
    "    input_variables=['topic'],\n",
    "    partial_variables={'format_instruction': parser.get_format_instructions()}\n",
    ")\n",
    "\n",
    "chain = template | model | parser"
   ]
  },
  {
   "cell_type": "code",
   "execution_count": 14,
   "id": "441094a8",
   "metadata": {},
   "outputs": [
    {
     "name": "stdout",
     "output_type": "stream",
     "text": [
      "{'facts': [{'fact': 'Black holes are regions of spacetime where gravity is so strong that nothing, not even light, can escape.', 'id': 1}, {'fact': 'The boundary surrounding a black hole is called the event horizon, beyond which anything that enters cannot escape.', 'id': 2}, {'fact': 'Black holes come in various sizes, ranging from small, stellar-mass black holes formed from star collapse, to supermassive black holes found at galaxy centers.', 'id': 3}, {'fact': \"The existence of black holes was predicted by Albert Einstein's theory of general relativity, and the first modern black hole candidate was discovered in 1971.\", 'id': 4}, {'fact': 'The information paradox surrounding black holes questions what happens to the information contained in matter that falls into a black hole, as it appears to be lost forever.', 'id': 5}]}\n"
     ]
    }
   ],
   "source": [
    "result = chain.invoke({'topic':'black hole'})\n",
    "print(result)"
   ]
  },
  {
   "cell_type": "markdown",
   "id": "4ed699be",
   "metadata": {},
   "source": [
    "### StructuredOutput Parser"
   ]
  },
  {
   "cell_type": "code",
   "execution_count": 16,
   "id": "dce48dbf",
   "metadata": {},
   "outputs": [],
   "source": [
    "schema = [\n",
    "    ResponseSchema(name='fact_1', description='Fact 1 about the topic'),\n",
    "    ResponseSchema(name='fact_2', description='Fact 2 about the topic'),\n",
    "    ResponseSchema(name='fact_3', description='Fact 3 about the topic'),\n",
    "]\n",
    "\n",
    "parser = StructuredOutputParser.from_response_schemas(schema)\n",
    "\n",
    "template = PromptTemplate(\n",
    "    template='Give 3 fact about {topic} \\n {format_instruction}',\n",
    "    input_variables=['topic'],\n",
    "    partial_variables={'format_instruction':parser.get_format_instructions()}\n",
    ")\n",
    "\n",
    "chain = template | model | parser"
   ]
  },
  {
   "cell_type": "code",
   "execution_count": 17,
   "id": "b5ae1d10",
   "metadata": {},
   "outputs": [
    {
     "name": "stdout",
     "output_type": "stream",
     "text": [
      "{'fact_1': 'A black hole is a region in space where the gravitational pull is so strong that nothing, including light, can escape.', 'fact_2': 'Black holes are formed when a massive star collapses in on itself, causing a massive amount of matter to be compressed into an incredibly small space.', 'fact_3': 'The event horizon of a black hole marks the boundary beyond which anything that enters cannot escape, and it is directly related to the mass of the black hole.'}\n"
     ]
    }
   ],
   "source": [
    "result = chain.invoke({'topic':'black hole'})\n",
    "print(result)"
   ]
  },
  {
   "cell_type": "markdown",
   "id": "73d83a21",
   "metadata": {},
   "source": [
    "### PydanticOutput Parser"
   ]
  },
  {
   "cell_type": "code",
   "execution_count": 34,
   "id": "4f4e3ce3",
   "metadata": {},
   "outputs": [],
   "source": [
    "class Person(BaseModel):\n",
    "    name: str = Field(description='Name of the person')\n",
    "    age: int = Field(gt=18, description='Age of the person')\n",
    "    city: str = Field(description='Name of the city the person belongs to')\n",
    "\n",
    "parser = PydanticOutputParser(pydantic_object=Person)\n",
    "\n",
    "template = PromptTemplate(\n",
    "    template='Generate the name, age and city of a fictional {place} person \\n {format_instruction}',\n",
    "    input_variables=['place'],\n",
    "    partial_variables={'format_instruction':parser.get_format_instructions()}\n",
    ")\n",
    "\n",
    "chain = template | model | parser"
   ]
  },
  {
   "cell_type": "code",
   "execution_count": 35,
   "id": "7bf34c54",
   "metadata": {},
   "outputs": [
    {
     "name": "stdout",
     "output_type": "stream",
     "text": [
      "name='Rohan Desai' age=32 city='Mumbai'\n"
     ]
    }
   ],
   "source": [
    "result = chain.invoke({'place':'India'})\n",
    "print(result)"
   ]
  }
 ],
 "metadata": {
  "kernelspec": {
   "display_name": ".venv",
   "language": "python",
   "name": "python3"
  },
  "language_info": {
   "codemirror_mode": {
    "name": "ipython",
    "version": 3
   },
   "file_extension": ".py",
   "mimetype": "text/x-python",
   "name": "python",
   "nbconvert_exporter": "python",
   "pygments_lexer": "ipython3",
   "version": "3.13.1"
  }
 },
 "nbformat": 4,
 "nbformat_minor": 5
}
