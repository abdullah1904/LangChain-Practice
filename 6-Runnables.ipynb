{
 "cells": [
  {
   "cell_type": "markdown",
   "id": "5903fea3",
   "metadata": {},
   "source": [
    "### Importing Packages"
   ]
  },
  {
   "cell_type": "code",
   "execution_count": 15,
   "id": "f589a6f6",
   "metadata": {},
   "outputs": [
    {
     "data": {
      "text/plain": [
       "True"
      ]
     },
     "execution_count": 15,
     "metadata": {},
     "output_type": "execute_result"
    }
   ],
   "source": [
    "from langchain_groq import ChatGroq\n",
    "from langchain_core.prompts import PromptTemplate\n",
    "from langchain_core.output_parsers import StrOutputParser\n",
    "from langchain.schema.runnable import RunnableSequence, RunnableParallel, RunnablePassthrough, RunnableLambda, RunnableBranch\n",
    "from dotenv import load_dotenv\n",
    "\n",
    "load_dotenv()"
   ]
  },
  {
   "cell_type": "markdown",
   "id": "ea76dacd",
   "metadata": {},
   "source": [
    "### Model Setup"
   ]
  },
  {
   "cell_type": "code",
   "execution_count": 2,
   "id": "02abcab6",
   "metadata": {},
   "outputs": [],
   "source": [
    "model = ChatGroq(\n",
    "    model=\"meta-llama/llama-4-maverick-17b-128e-instruct\",\n",
    "    temperature=0.7,\n",
    "    max_tokens=1024,\n",
    ") "
   ]
  },
  {
   "cell_type": "markdown",
   "id": "367c6d24",
   "metadata": {},
   "source": [
    "### Runnable Sequence"
   ]
  },
  {
   "cell_type": "code",
   "execution_count": 5,
   "id": "1c20df15",
   "metadata": {},
   "outputs": [],
   "source": [
    "prompt1 = PromptTemplate(\n",
    "    template='Write a joke about {topic}',\n",
    "    input_variables=['topic']\n",
    ")\n",
    "\n",
    "prompt2 = PromptTemplate(\n",
    "    template='Explain the following joke - {text}',\n",
    "    input_variables=['text']\n",
    ")\n",
    "\n",
    "parser = StrOutputParser()"
   ]
  },
  {
   "cell_type": "code",
   "execution_count": 7,
   "id": "d414607a",
   "metadata": {},
   "outputs": [
    {
     "name": "stdout",
     "output_type": "stream",
     "text": [
      "The joke is a play on words. \"Process\" has a double meaning here:\n",
      "\n",
      "1. In computing, \"process\" refers to the act of handling or executing a task, such as data processing. AI systems are designed to process information.\n",
      "2. In a psychological context, \"processing emotions\" means to understand, deal with, and manage one's feelings.\n",
      "\n",
      "The joke is funny because it takes the literal meaning of \"process\" (related to computing) and applies it to the AI's emotional state, creating a pun. The AI is \"struggling to process its emotions\" in the sense that it's having trouble understanding and managing its feelings, just like a human might. The wordplay creates a humorous connection between the AI's computational nature and its supposed emotional struggles.\n"
     ]
    }
   ],
   "source": [
    "chain = RunnableSequence(prompt1, model, parser, prompt2, model, parser)\n",
    "print(chain.invoke({'topic':'AI'}))"
   ]
  },
  {
   "cell_type": "markdown",
   "id": "186af666",
   "metadata": {},
   "source": [
    "### Runnable Parallel"
   ]
  },
  {
   "cell_type": "code",
   "execution_count": 9,
   "id": "82c49e6b",
   "metadata": {},
   "outputs": [],
   "source": [
    "prompt1 = PromptTemplate(\n",
    "    template='Generate a tweet about {topic}',\n",
    "    input_variables=['topic']\n",
    ")\n",
    "\n",
    "prompt2 = PromptTemplate(\n",
    "    template='Generate a Linkedin post about {topic}',\n",
    "    input_variables=['topic']\n",
    ")\n",
    "\n",
    "parser = StrOutputParser()\n",
    "\n",
    "parallel_chain = RunnableParallel({\n",
    "    'tweet': RunnableSequence(prompt1, model, parser),\n",
    "    'linkedin': RunnableSequence(prompt2, model, parser)\n",
    "})"
   ]
  },
  {
   "cell_type": "code",
   "execution_count": 11,
   "id": "bf499d05",
   "metadata": {},
   "outputs": [
    {
     "name": "stdout",
     "output_type": "stream",
     "text": [
      "Twitter\n",
      " \"Just learned about the latest advancements in #AI and I'm blown away! From revolutionizing healthcare to transforming transportation, the possibilities are endless! What do you think is the most exciting application of AI right now? #ArtificialIntelligence #Tech\"\n",
      "LinkedIn\n",
      " Here's a sample LinkedIn post about AI:\n",
      "\n",
      "**Title:** \"The Future is Here: How AI is Revolutionizing Industries\"\n",
      "\n",
      "**Post:**\n",
      "\n",
      "\"Artificial Intelligence (AI) is no longer just a buzzword - it's a reality that's transforming the way we work, live, and interact with each other. From automating mundane tasks to enabling groundbreaking innovations, AI is revolutionizing industries across the globe.\n",
      "\n",
      "In recent years, we've seen significant advancements in AI technology, with applications in areas such as:\n",
      "\n",
      "* **Predictive Maintenance**: AI-powered predictive maintenance is helping companies reduce downtime and increase efficiency in industries like manufacturing and energy.\n",
      "* **Personalized Medicine**: AI-driven medical diagnosis and treatment are improving patient outcomes and saving lives.\n",
      "* **Customer Service**: AI-powered chatbots are enhancing customer experience and freeing up human customer support agents to focus on complex issues.\n",
      "\n",
      "As AI continues to evolve, it's exciting to think about the new possibilities it will unlock. Whether you're a business leader, entrepreneur, or simply someone interested in technology, it's essential to stay informed about the latest developments in AI.\n",
      "\n",
      "**What are your thoughts on AI? How do you see it impacting your industry or work? Share your insights in the comments below!**\n",
      "\n",
      "Let's keep the conversation going and explore the vast potential of AI together!\n",
      "\n",
      "#AI #ArtificialIntelligence #Innovation #Technology #FutureOfWork\"\n",
      "\n",
      "Feel free to customize it as per your preference!\n"
     ]
    }
   ],
   "source": [
    "result = parallel_chain.invoke({'topic':'AI'})\n",
    "print(\"Twitter\\n\",result['tweet'])\n",
    "print(\"LinkedIn\\n\",result['linkedin'])"
   ]
  },
  {
   "cell_type": "markdown",
   "id": "cee0a084",
   "metadata": {},
   "source": [
    "### Runnable Passthrough"
   ]
  },
  {
   "cell_type": "code",
   "execution_count": 22,
   "id": "1a7c71a5",
   "metadata": {},
   "outputs": [],
   "source": [
    "prompt1 = PromptTemplate(\n",
    "    template='Write a joke about {topic}',\n",
    "    input_variables=['topic']\n",
    ")\n",
    "\n",
    "prompt2 = PromptTemplate(\n",
    "    template='Explain the following joke - {text}',\n",
    "    input_variables=['text']\n",
    ")\n",
    "\n",
    "parser = StrOutputParser()\n",
    "\n",
    "joke_gen_chain = RunnableSequence(prompt1, model, parser)\n",
    "\n",
    "parallel_chain = RunnableParallel({\n",
    "    'joke': RunnablePassthrough(),\n",
    "    'explanation': RunnableSequence(prompt2, model, parser)\n",
    "})"
   ]
  },
  {
   "cell_type": "code",
   "execution_count": 23,
   "id": "820ab560",
   "metadata": {},
   "outputs": [
    {
     "name": "stdout",
     "output_type": "stream",
     "text": [
      "{'joke': 'Why did the cricket go to the doctor?\\n\\nBecause it had a \"pitch\" black bruise! (get it? pitch, like in cricket!)', 'explanation': 'The joke is a play on words. \"Pitch\" has a double meaning here:\\n\\n1. In cricket, a pitch refers to the area of the ground where the game is played. It\\'s a term specific to the sport.\\n2. \"Pitch black\" is an idiomatic expression meaning extremely dark or black.\\n\\nThe joke is saying that the cricket (the insect, not the sport) went to the doctor because it had a bruise that was \"pitch black\", meaning it was very dark or bruised. The punchline is funny because it\\'s making a connection between the cricket (the insect) and the sport of cricket, using the word \"pitch\" in a clever and unexpected way.\\n\\nThe humor comes from the unexpected twist on the word \"pitch\" and the clever connection made between the setup (the cricket going to the doctor) and the punchline (the \"pitch\" black bruise). The joke relies on a basic understanding of the sport of cricket and the idiomatic expression \"pitch black\" to create the wordplay.'}\n"
     ]
    }
   ],
   "source": [
    "final_chain = RunnableSequence(joke_gen_chain, parallel_chain)\n",
    "# final_chain = joke_gen_chain | parallel_chain\n",
    "\n",
    "print(final_chain.invoke({'topic':'cricket'}))"
   ]
  },
  {
   "cell_type": "markdown",
   "id": "ae72c650",
   "metadata": {},
   "source": [
    "### Runnable Lambda"
   ]
  },
  {
   "cell_type": "code",
   "execution_count": 16,
   "id": "0ce8f20f",
   "metadata": {},
   "outputs": [],
   "source": [
    "def word_count(text):\n",
    "    return len(text.split())\n",
    "\n",
    "prompt = PromptTemplate(\n",
    "    template='Write a joke about {topic}',\n",
    "    input_variables=['topic']\n",
    ")\n",
    "\n",
    "parser = StrOutputParser()\n",
    "\n",
    "joke_gen_chain = RunnableSequence(prompt, model, parser)\n",
    "\n",
    "parallel_chain = RunnableParallel({\n",
    "    'joke': RunnablePassthrough(),\n",
    "    'word_count': RunnableLambda(word_count)\n",
    "})"
   ]
  },
  {
   "cell_type": "code",
   "execution_count": 17,
   "id": "0fc0c61d",
   "metadata": {},
   "outputs": [
    {
     "name": "stdout",
     "output_type": "stream",
     "text": [
      "Why did the AI go on a diet?\n",
      "\n",
      "Because it wanted to lose some bytes! \n",
      " word count - 15\n"
     ]
    }
   ],
   "source": [
    "final_chain = RunnableSequence(joke_gen_chain, parallel_chain)\n",
    "result = final_chain.invoke({'topic':'AI'})\n",
    "final_result = \"\"\"{} \\n word count - {}\"\"\".format(result['joke'], result['word_count'])\n",
    "print(final_result)"
   ]
  },
  {
   "cell_type": "markdown",
   "id": "a786335b",
   "metadata": {},
   "source": [
    "### Runnable Branch"
   ]
  },
  {
   "cell_type": "code",
   "execution_count": 1,
   "id": "e31fb8bc",
   "metadata": {},
   "outputs": [
    {
     "ename": "NameError",
     "evalue": "name 'PromptTemplate' is not defined",
     "output_type": "error",
     "traceback": [
      "\u001b[31m---------------------------------------------------------------------------\u001b[39m",
      "\u001b[31mNameError\u001b[39m                                 Traceback (most recent call last)",
      "\u001b[36mCell\u001b[39m\u001b[36m \u001b[39m\u001b[32mIn[1]\u001b[39m\u001b[32m, line 1\u001b[39m\n\u001b[32m----> \u001b[39m\u001b[32m1\u001b[39m prompt1 = \u001b[43mPromptTemplate\u001b[49m(\n\u001b[32m      2\u001b[39m     template=\u001b[33m'\u001b[39m\u001b[33mWrite a detailed report on \u001b[39m\u001b[38;5;132;01m{topic}\u001b[39;00m\u001b[33m'\u001b[39m,\n\u001b[32m      3\u001b[39m     input_variables=[\u001b[33m'\u001b[39m\u001b[33mtopic\u001b[39m\u001b[33m'\u001b[39m]\n\u001b[32m      4\u001b[39m )\n\u001b[32m      6\u001b[39m prompt2 = PromptTemplate(\n\u001b[32m      7\u001b[39m     template=\u001b[33m'\u001b[39m\u001b[33mSummarize the following text \u001b[39m\u001b[38;5;130;01m\\n\u001b[39;00m\u001b[33m \u001b[39m\u001b[38;5;132;01m{text}\u001b[39;00m\u001b[33m'\u001b[39m,\n\u001b[32m      8\u001b[39m     input_variables=[\u001b[33m'\u001b[39m\u001b[33mtext\u001b[39m\u001b[33m'\u001b[39m]\n\u001b[32m      9\u001b[39m )\n\u001b[32m     11\u001b[39m parser = StrOutputParser()\n",
      "\u001b[31mNameError\u001b[39m: name 'PromptTemplate' is not defined"
     ]
    }
   ],
   "source": [
    "prompt1 = PromptTemplate(\n",
    "    template='Write a detailed report on {topic}',\n",
    "    input_variables=['topic']\n",
    ")\n",
    "\n",
    "prompt2 = PromptTemplate(\n",
    "    template='Summarize the following text \\n {text}',\n",
    "    input_variables=['text']\n",
    ")\n",
    "\n",
    "parser = StrOutputParser()\n",
    "\n",
    "report_gen_chain = prompt1 | model | parser\n",
    "\n",
    "branch_chain = RunnableBranch(\n",
    "    (lambda x: len(x.split())>30, prompt2 | model | parser),\n",
    "    RunnablePassthrough()\n",
    ")"
   ]
  },
  {
   "cell_type": "code",
   "execution_count": 19,
   "id": "bbfdd081",
   "metadata": {},
   "outputs": [
    {
     "name": "stdout",
     "output_type": "stream",
     "text": [
      "### Summary of the Russia-Ukraine Conflict Report\n",
      "\n",
      "The Russia-Ukraine conflict is a complex and ongoing crisis that began in 2014. The conflict has its roots in Ukraine's historical ties with Russia, its aspirations to integrate with the European Union, and Russia's strategic interests in the region.\n",
      "\n",
      "#### Key Causes and Events\n",
      "\n",
      "The conflict is driven by several factors, including:\n",
      "\n",
      "* **Ukraine's pro-European aspirations**: Ukraine's desire to integrate with the EU and adopt Western values is seen as a threat to Russia's regional dominance.\n",
      "* **Russia's strategic interests**: Russia's interests in Ukraine are driven by its need to maintain access to Ukraine's ports, particularly in Crimea, and to prevent Ukraine's integration with NATO.\n",
      "* **Ethnic and linguistic divisions**: Ukraine's population is divided between Ukrainian-speaking nationalists and Russian-speaking populations, particularly in the eastern regions of Donetsk and Luhansk.\n",
      "\n",
      "Key events that have shaped the conflict include:\n",
      "\n",
      "* **2014: Yanukovych's ousting and Russia's annexation of Crimea**: Pro-Russian President Viktor Yanukovych was ousted in February 2014, leading to Russia's annexation of Crimea in March 2014.\n",
      "* **2014: Separatist movements in eastern Ukraine**: Pro-Russian separatist movements emerged in Donetsk and Luhansk, backed by Russia, leading to a protracted conflict with the Ukrainian government.\n",
      "* **2022: Escalation of the conflict**: In February 2022, Russia launched a large-scale invasion of Ukraine, with troops entering from multiple directions, including from Belarus and Crimea.\n",
      "\n",
      "#### Current Situation and Humanitarian Consequences\n",
      "\n",
      "The conflict continues to escalate, with both sides suffering significant losses. The humanitarian consequences of the conflict have been severe, with:\n",
      "\n",
      "* **Over 3 million people displaced**: Many have sought refuge in neighboring countries.\n",
      "* **Thousands of civilians killed or injured**: Many more have been affected by the conflict.\n",
      "* **Critical infrastructure damaged or destroyed**: Power plants, hospitals, and schools have been damaged or destroyed.\n",
      "\n",
      "#### International Response and Recommendations\n",
      "\n",
      "The international community has responded to the conflict through various measures, including:\n",
      "\n",
      "* **Economic sanctions**: The United States and Europe have imposed economic sanctions on Russia, targeting key sectors, including finance, energy, and defense.\n",
      "* **Military aid**: Ukraine has received significant military aid from the United States and Europe, including advanced military equipment and training.\n",
      "* **Diplomatic efforts**: Diplomatic efforts, including negotiations and mediation, have been ongoing, with the aim of resolving the conflict through peaceful means.\n",
      "\n",
      "To resolve the conflict, the report recommends:\n",
      "\n",
      "* **Negotiations**: The parties should engage in meaningful negotiations, facilitated by the international community, to address the conflict's underlying causes.\n",
      "* **Ceasefire**: A lasting ceasefire should be established, with monitoring and verification mechanisms to prevent further escalation.\n",
      "* **Humanitarian assistance**: The international community should continue to provide humanitarian assistance to those affected by the conflict.\n",
      "* **Economic support**: Ukraine should receive economic support to rebuild its economy and infrastructure.\n",
      "\n",
      "#### Future Outlook\n",
      "\n",
      "The conflict's outcome remains uncertain, with both sides dug in. A peaceful resolution will require a willingness to compromise and a commitment to diplomacy. The international community must remain engaged, providing support to Ukraine and pressure on Russia to de-escalate the conflict. The humanitarian consequences of the conflict will continue to be felt for years to come, making a swift and peaceful resolution a pressing imperative.\n"
     ]
    }
   ],
   "source": [
    "final_chain = RunnableSequence(report_gen_chain, branch_chain)\n",
    "print(final_chain.invoke({'topic':'Russia vs Ukraine'}))"
   ]
  }
 ],
 "metadata": {
  "kernelspec": {
   "display_name": ".venv",
   "language": "python",
   "name": "python3"
  },
  "language_info": {
   "codemirror_mode": {
    "name": "ipython",
    "version": 3
   },
   "file_extension": ".py",
   "mimetype": "text/x-python",
   "name": "python",
   "nbconvert_exporter": "python",
   "pygments_lexer": "ipython3",
   "version": "3.13.1"
  }
 },
 "nbformat": 4,
 "nbformat_minor": 5
}
