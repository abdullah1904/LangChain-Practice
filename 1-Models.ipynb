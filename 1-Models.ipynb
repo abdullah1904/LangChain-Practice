{
 "cells": [
  {
   "cell_type": "markdown",
   "id": "1f8df480",
   "metadata": {},
   "source": [
    "### Importing Packages"
   ]
  },
  {
   "cell_type": "code",
   "execution_count": null,
   "id": "7881107c",
   "metadata": {},
   "outputs": [
    {
     "name": "stderr",
     "output_type": "stream",
     "text": [
      "c:\\Users\\Muhammad Abdullah\\Desktop\\LangChain Practice\\.venv\\Lib\\site-packages\\tqdm\\auto.py:21: TqdmWarning: IProgress not found. Please update jupyter and ipywidgets. See https://ipywidgets.readthedocs.io/en/stable/user_install.html\n",
      "  from .autonotebook import tqdm as notebook_tqdm\n"
     ]
    },
    {
     "data": {
      "text/plain": [
       "True"
      ]
     },
     "execution_count": 1,
     "metadata": {},
     "output_type": "execute_result"
    }
   ],
   "source": [
    "from langchain_openai import OpenAI, ChatOpenAI, OpenAIEmbeddings\n",
    "from langchain_google_genai import ChatGoogleGenerativeAI\n",
    "from langchain_huggingface import ChatHuggingFace, HuggingFaceEndpoint, HuggingFacePipeline, HuggingFaceEmbeddings\n",
    "from dotenv import load_dotenv\n",
    "from sklearn.metrics.pairwise import cosine_similarity\n",
    "import os\n",
    "\n",
    "load_dotenv()"
   ]
  },
  {
   "cell_type": "markdown",
   "id": "05edcd82",
   "metadata": {},
   "source": [
    "### LLM's"
   ]
  },
  {
   "cell_type": "code",
   "execution_count": 2,
   "id": "95edaf8d",
   "metadata": {},
   "outputs": [],
   "source": [
    "llm = OpenAI(\n",
    "    model=\"gpt-3.5-turbo-instruct\",\n",
    ")"
   ]
  },
  {
   "cell_type": "code",
   "execution_count": null,
   "id": "7deccfe8",
   "metadata": {},
   "outputs": [],
   "source": [
    "result = llm.invoke(\"What is the capital of France?\")\n",
    "result"
   ]
  },
  {
   "cell_type": "markdown",
   "id": "8f8803dc",
   "metadata": {},
   "source": [
    "### ChatModels"
   ]
  },
  {
   "cell_type": "code",
   "execution_count": 3,
   "id": "5e6bdaa0",
   "metadata": {},
   "outputs": [],
   "source": [
    "model = ChatOpenAI(\n",
    "    model=\"gpt-4\",\n",
    "    temperature=0.7,\n",
    "    max_completion_tokens=1000\n",
    ")"
   ]
  },
  {
   "cell_type": "code",
   "execution_count": null,
   "id": "7893332d",
   "metadata": {},
   "outputs": [],
   "source": [
    "result = model.invoke(\"Write a five lines of poetry about the coding\")\n",
    "print(result.content)"
   ]
  },
  {
   "cell_type": "code",
   "execution_count": 4,
   "id": "a2a42757",
   "metadata": {},
   "outputs": [],
   "source": [
    "model = ChatGoogleGenerativeAI(\n",
    "    model=\"gemini-1.5-flash\",\n",
    "    temperature=0.2,\n",
    "    max_output_tokens=100\n",
    ")"
   ]
  },
  {
   "cell_type": "code",
   "execution_count": 5,
   "id": "590709cc",
   "metadata": {},
   "outputs": [
    {
     "name": "stdout",
     "output_type": "stream",
     "text": [
      "From data's depths, a pattern's gleam,\n",
      "A learning mind, a coded dream.\n",
      "Algorithms weave, a subtle art,\n",
      "Predicting futures, playing a part.\n",
      "Machines evolve, a future bright.\n"
     ]
    }
   ],
   "source": [
    "result = model.invoke(\"Write a five lines of poetry about the machine learning\")\n",
    "print(result.content)"
   ]
  },
  {
   "cell_type": "code",
   "execution_count": 6,
   "id": "6f0008da",
   "metadata": {},
   "outputs": [],
   "source": [
    "llm = HuggingFaceEndpoint(\n",
    "    repo_id=\"meta-llama/Llama-3.1-8B-Instruct\",\n",
    "    task=\"text-generation\"\n",
    ")\n",
    "\n",
    "model = ChatHuggingFace(\n",
    "    llm=llm,\n",
    ")"
   ]
  },
  {
   "cell_type": "code",
   "execution_count": 7,
   "id": "05037f76",
   "metadata": {},
   "outputs": [
    {
     "name": "stdout",
     "output_type": "stream",
     "text": [
      "In realms of code, where data reigns,\n",
      "We seek the truth, through endless domains.\n",
      "With algorithms keen, we mine the gold,\n",
      "Of insights hidden, yet to be told.\n",
      "In data's depths, our stories unfold.\n"
     ]
    }
   ],
   "source": [
    "result = model.invoke(\"Write a five lines of poetry about the data science\")\n",
    "print(result.content)"
   ]
  },
  {
   "cell_type": "code",
   "execution_count": 8,
   "id": "80328a57",
   "metadata": {},
   "outputs": [],
   "source": [
    "os.environ['HF_HOME'] = \"D:/huggingface_cache\""
   ]
  },
  {
   "cell_type": "code",
   "execution_count": null,
   "id": "11c1ac4c",
   "metadata": {},
   "outputs": [],
   "source": [
    "llm = HuggingFacePipeline.from_model_id(\n",
    "    model_id=\"TinyLlama/TinyLlama-1.1B-Chat-v1.0\",\n",
    "    task=\"text-generation\", \n",
    "    pipeline_kwargs={\n",
    "        \"temperature\": 0.7,\n",
    "        \"max_new_tokens\": 1000\n",
    "    }\n",
    ")\n",
    "\n",
    "model = ChatHuggingFace(\n",
    "    llm=llm,\n",
    ")"
   ]
  },
  {
   "cell_type": "code",
   "execution_count": null,
   "id": "d625b98e",
   "metadata": {},
   "outputs": [],
   "source": [
    "result = model.invoke(\"Write a five lines of poetry about the data structures\")\n",
    "print(result.content)"
   ]
  },
  {
   "cell_type": "markdown",
   "id": "70022c58",
   "metadata": {},
   "source": [
    "### Embedding Models"
   ]
  },
  {
   "cell_type": "code",
   "execution_count": 9,
   "id": "cd37b6cd",
   "metadata": {},
   "outputs": [],
   "source": [
    "embedding = OpenAIEmbeddings(\n",
    "    model=\"text-embedding-3-large\",\n",
    "    dimensions=32,\n",
    ")"
   ]
  },
  {
   "cell_type": "code",
   "execution_count": null,
   "id": "c2b5ecd5",
   "metadata": {},
   "outputs": [],
   "source": [
    "result = embedding.embed_query(\"Abdullah is good developer\")\n",
    "print(str(result))"
   ]
  },
  {
   "cell_type": "code",
   "execution_count": null,
   "id": "3be0169c",
   "metadata": {},
   "outputs": [],
   "source": [
    "documents = [\n",
    "    \"Abdullah is a good developer\",\n",
    "    \"He is working on a new project\",\n",
    "    \"The project is about AI and machine learning\",\n",
    "    \"He loves to code and solve problems\",\n",
    "    \"His favorite programming language is Python\"\n",
    "]\n",
    "\n",
    "results = embedding.embed_documents(documents)\n",
    "print(str(result))"
   ]
  },
  {
   "cell_type": "code",
   "execution_count": null,
   "id": "5515f6fe",
   "metadata": {},
   "outputs": [],
   "source": [
    "embedding = HuggingFaceEmbeddings(model_name='sentence-transformers/all-MiniLM-L6-v2')"
   ]
  },
  {
   "cell_type": "code",
   "execution_count": null,
   "id": "cd79394b",
   "metadata": {},
   "outputs": [],
   "source": [
    "documents = [\n",
    "    \"Abdullah is a good developer\",\n",
    "    \"He is working on a new project\",\n",
    "    \"The project is about AI and machine learning\",\n",
    "    \"He loves to code and solve problems\",\n",
    "    \"His favorite programming language is Python\"\n",
    "]\n",
    "\n",
    "vectors = embedding.embed_documents(documents)\n",
    "\n",
    "print(str(vectors))"
   ]
  },
  {
   "cell_type": "markdown",
   "id": "9b9ffdd9",
   "metadata": {},
   "source": [
    "### Similarity Search"
   ]
  },
  {
   "cell_type": "code",
   "execution_count": null,
   "id": "512ee5bd",
   "metadata": {},
   "outputs": [],
   "source": [
    "embedding = OpenAIEmbeddings(model='text-embedding-3-large', dimensions=300)"
   ]
  },
  {
   "cell_type": "code",
   "execution_count": null,
   "id": "83026a77",
   "metadata": {},
   "outputs": [],
   "source": [
    "documents = [\n",
    "    \"Virat Kohli is an Indian cricketer known for his aggressive batting and leadership.\",\n",
    "    \"MS Dhoni is a former Indian captain famous for his calm demeanor and finishing skills.\",\n",
    "    \"Sachin Tendulkar, also known as the 'God of Cricket', holds many batting records.\",\n",
    "    \"Rohit Sharma is known for his elegant batting and record-breaking double centuries.\",\n",
    "    \"Jasprit Bumrah is an Indian fast bowler known for his unorthodox action and yorkers.\"\n",
    "]\n",
    "\n",
    "doc_embeddings = embedding.embed_documents(documents)"
   ]
  },
  {
   "cell_type": "code",
   "execution_count": null,
   "id": "5d0041f9",
   "metadata": {},
   "outputs": [],
   "source": [
    "query = 'tell me about bumrah'\n",
    "\n",
    "query_embedding = embedding.embed_query(query)"
   ]
  },
  {
   "cell_type": "code",
   "execution_count": null,
   "id": "c90eb023",
   "metadata": {},
   "outputs": [],
   "source": [
    "scores = cosine_similarity([query_embedding], doc_embeddings)[0]"
   ]
  },
  {
   "cell_type": "code",
   "execution_count": null,
   "id": "ca35f7bb",
   "metadata": {},
   "outputs": [],
   "source": [
    "index, score = sorted(list(enumerate(scores)),key=lambda x:x[1])[-1]"
   ]
  },
  {
   "cell_type": "code",
   "execution_count": null,
   "id": "9ee3a83d",
   "metadata": {},
   "outputs": [],
   "source": [
    "print(query)\n",
    "print(documents[index])\n",
    "print(\"Similarity Score is:\", score)"
   ]
  }
 ],
 "metadata": {
  "kernelspec": {
   "display_name": ".venv",
   "language": "python",
   "name": "python3"
  },
  "language_info": {
   "codemirror_mode": {
    "name": "ipython",
    "version": 3
   },
   "file_extension": ".py",
   "mimetype": "text/x-python",
   "name": "python",
   "nbconvert_exporter": "python",
   "pygments_lexer": "ipython3",
   "version": "3.13.1"
  }
 },
 "nbformat": 4,
 "nbformat_minor": 5
}
