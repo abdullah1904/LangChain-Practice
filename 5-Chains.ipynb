{
 "cells": [
  {
   "cell_type": "markdown",
   "id": "adc1ec4b",
   "metadata": {},
   "source": [
    "### Importing Packages"
   ]
  },
  {
   "cell_type": "code",
   "execution_count": 43,
   "id": "282ec87f",
   "metadata": {},
   "outputs": [
    {
     "data": {
      "text/plain": [
       "True"
      ]
     },
     "execution_count": 43,
     "metadata": {},
     "output_type": "execute_result"
    }
   ],
   "source": [
    "from langchain_groq import ChatGroq\n",
    "from langchain_google_genai import ChatGoogleGenerativeAI\n",
    "from langchain_core.prompts import PromptTemplate\n",
    "from langchain_core.output_parsers import StrOutputParser, PydanticOutputParser\n",
    "from langchain_core.runnables import RunnableParallel, RunnableLambda, RunnableBranch\n",
    "from pydantic import BaseModel, Field\n",
    "from typing import Literal\n",
    "from dotenv import load_dotenv\n",
    "\n",
    "load_dotenv()"
   ]
  },
  {
   "cell_type": "markdown",
   "id": "fdb36df1",
   "metadata": {},
   "source": [
    "### Model Setup"
   ]
  },
  {
   "cell_type": "code",
   "execution_count": 29,
   "id": "d7c87d28",
   "metadata": {},
   "outputs": [],
   "source": [
    "model1 = ChatGroq(\n",
    "    model=\"meta-llama/llama-4-maverick-17b-128e-instruct\",\n",
    "    temperature=0.7,\n",
    "    max_tokens=1024,\n",
    ")\n",
    "\n",
    "model2 = ChatGoogleGenerativeAI(\n",
    "    model=\"gemini-1.5-flash\",\n",
    "    temperature=0.7,\n",
    "    max_tokens=1024\n",
    ")"
   ]
  },
  {
   "cell_type": "markdown",
   "id": "66899911",
   "metadata": {},
   "source": [
    "### Simple Chain"
   ]
  },
  {
   "cell_type": "code",
   "execution_count": 30,
   "id": "f70d1cba",
   "metadata": {},
   "outputs": [],
   "source": [
    "parser = StrOutputParser()\n",
    "\n",
    "prompt = PromptTemplate(\n",
    "    template='Generate 5 interesting and unique facts about {topic}',\n",
    "    input_variables=['topic']\n",
    ")\n",
    "\n",
    "chain = prompt | model1 | parser"
   ]
  },
  {
   "cell_type": "code",
   "execution_count": 31,
   "id": "a9ef102c",
   "metadata": {},
   "outputs": [
    {
     "name": "stdout",
     "output_type": "stream",
     "text": [
      "Here are 5 interesting and unique facts about Computer Science:\n",
      "\n",
      "1. **The First Computer Bug Was an Actual Insect**: In 1947, a team of engineers working on the Harvard Mark II computer discovered a moth stuck in one of the relays. They taped the moth to the computer log and wrote \"First actual case of bug being found\" next to it. From then on, any technical issue with the computer was referred to as a \"bug.\" This story highlights the often-overlooked history and anecdotes that underlie the development of computer science.\n",
      "\n",
      "2. **The Concept of Artificial Intelligence Has Been Around Since Ancient Greece**: While computer science as we know it today is a relatively recent development, the idea of creating machines that can think and behave like humans dates back to ancient times. The Greek myth of Talos, a bronze giant who was said to be able to think and act, is an early example of this idea. The modern field of artificial intelligence (AI) draws on this long history of exploring the possibilities of machine intelligence.\n",
      "\n",
      "3. **The World's First Programmer Was a Woman**: Ada Lovelace, daughter of Lord Byron, is often considered the world's first computer programmer due to her work on Charles Babbage's proposed mechanical general-purpose computer, the Analytical Engine. She wrote a series of notes on the engine that included a method for calculating a sequence of Bernoulli numbers using the machine, which is considered to be the first computer program. Lovelace's contributions to computer science are a testament to the important role women have played in the development of the field.\n",
      "\n",
      "4. **Computer Science Has a Significant Impact on Environmental Conservation**: Computer science is being used in a variety of ways to support environmental conservation, from monitoring wildlife populations to modeling climate change. For example, machine learning algorithms can be used to analyze satellite images and identify areas of deforestation, while sensor networks can be used to track water quality and detect early signs of pollution. These applications demonstrate the potential for computer science to drive positive change in the world.\n",
      "\n",
      "5. **The Internet Was Originally Designed to Survive a Nuclear Attack**: The Internet was originally developed in the 1960s by the United States Department of Defense's Advanced Research Projects Agency (ARPA) as a way to connect computers and allow them to communicate with each other. The network, called ARPANET, was designed to be resilient and able to survive a nuclear attack by having multiple paths for data to travel. This design has had a lasting impact on the modern internet, which is still based on the same fundamental principles of decentralization and redundancy.\n",
      "\n",
      "These facts highlight the fascinating history, diverse applications, and significant impact of computer science on society.\n"
     ]
    }
   ],
   "source": [
    "result = chain.invoke({'topic':'Computer Science'})\n",
    "print(result)"
   ]
  },
  {
   "cell_type": "code",
   "execution_count": 21,
   "id": "b4c6b1c7",
   "metadata": {},
   "outputs": [
    {
     "name": "stdout",
     "output_type": "stream",
     "text": [
      "     +-------------+       \n",
      "     | PromptInput |       \n",
      "     +-------------+       \n",
      "            *              \n",
      "            *              \n",
      "            *              \n",
      "    +----------------+     \n",
      "    | PromptTemplate |     \n",
      "    +----------------+     \n",
      "            *              \n",
      "            *              \n",
      "            *              \n",
      "      +----------+         \n",
      "      | ChatGroq |         \n",
      "      +----------+         \n",
      "            *              \n",
      "            *              \n",
      "            *              \n",
      "   +-----------------+     \n",
      "   | StrOutputParser |     \n",
      "   +-----------------+     \n",
      "            *              \n",
      "            *              \n",
      "            *              \n",
      "+-----------------------+  \n",
      "| StrOutputParserOutput |  \n",
      "+-----------------------+  \n"
     ]
    }
   ],
   "source": [
    "chain.get_graph().print_ascii()"
   ]
  },
  {
   "cell_type": "markdown",
   "id": "89d5af73",
   "metadata": {},
   "source": [
    "### Sequential Chain"
   ]
  },
  {
   "cell_type": "code",
   "execution_count": 32,
   "id": "9499ef6f",
   "metadata": {},
   "outputs": [],
   "source": [
    "parser = StrOutputParser()\n",
    "\n",
    "prompt1 = PromptTemplate(\n",
    "    template='Generate a detailed report on {topic}',\n",
    "    input_variables=['topic']\n",
    ")\n",
    "\n",
    "prompt2 = PromptTemplate(\n",
    "    template='Generate a 5 pointer summary from the following text \\n {text}',\n",
    "    input_variables=['text']\n",
    ")\n",
    "\n",
    "chain = prompt1 | model1 | parser | prompt2 | model1 | parser"
   ]
  },
  {
   "cell_type": "code",
   "execution_count": 25,
   "id": "c1748072",
   "metadata": {},
   "outputs": [
    {
     "name": "stdout",
     "output_type": "stream",
     "text": [
      "Here is a 5-pointer summary of the report on \"Unemployment due to AI in Software Engineering: A Detailed Report\":\n",
      "\n",
      "1. **AI is increasingly being used in software engineering**: AI-powered tools are being used to automate tasks such as code completion, code review, testing, and DevOps, posing a risk to employment in the industry.\n",
      "2. **Certain tasks and roles are more susceptible to automation**: Junior developers, QA engineers, code reviewers, and technical writers are among the roles that are most likely to be displaced by AI-powered tools.\n",
      "3. **Consequences of unemployment due to AI could be significant**: Job displacement, skills obsolescence, and economic disruption are potential consequences of widespread unemployment in the software engineering industry due to AI.\n",
      "4. **Mitigating measures can be taken**: Upskilling and reskilling, education and training, industry support, and government initiatives can help mitigate the negative consequences of unemployment due to AI.\n",
      "5. **Collaboration is key to addressing the issue**: Software engineers, companies, educational institutions, and governments must work together to develop strategies that support the development of new skills, education, and training, and provide support for those displaced by AI.\n"
     ]
    }
   ],
   "source": [
    "result = chain.invoke({'topic': 'Unemployment due to AI in Software Engineering'})\n",
    "print(result)"
   ]
  },
  {
   "cell_type": "code",
   "execution_count": 26,
   "id": "5660e282",
   "metadata": {},
   "outputs": [
    {
     "name": "stdout",
     "output_type": "stream",
     "text": [
      "     +-------------+       \n",
      "     | PromptInput |       \n",
      "     +-------------+       \n",
      "            *              \n",
      "            *              \n",
      "            *              \n",
      "    +----------------+     \n",
      "    | PromptTemplate |     \n",
      "    +----------------+     \n",
      "            *              \n",
      "            *              \n",
      "            *              \n",
      "      +----------+         \n",
      "      | ChatGroq |         \n",
      "      +----------+         \n",
      "            *              \n",
      "            *              \n",
      "            *              \n",
      "   +-----------------+     \n",
      "   | StrOutputParser |     \n",
      "   +-----------------+     \n",
      "            *              \n",
      "            *              \n",
      "            *              \n",
      "+-----------------------+  \n",
      "| StrOutputParserOutput |  \n",
      "+-----------------------+  \n",
      "            *              \n",
      "            *              \n",
      "            *              \n",
      "    +----------------+     \n",
      "    | PromptTemplate |     \n",
      "    +----------------+     \n",
      "            *              \n",
      "            *              \n",
      "            *              \n",
      "      +----------+         \n",
      "      | ChatGroq |         \n",
      "      +----------+         \n",
      "            *              \n",
      "            *              \n",
      "            *              \n",
      "   +-----------------+     \n",
      "   | StrOutputParser |     \n",
      "   +-----------------+     \n",
      "            *              \n",
      "            *              \n",
      "            *              \n",
      "+-----------------------+  \n",
      "| StrOutputParserOutput |  \n",
      "+-----------------------+  \n"
     ]
    }
   ],
   "source": [
    "chain.get_graph().print_ascii()"
   ]
  },
  {
   "cell_type": "markdown",
   "id": "5118db8d",
   "metadata": {},
   "source": [
    "### Parallel Chain"
   ]
  },
  {
   "cell_type": "code",
   "execution_count": null,
   "id": "65d0724f",
   "metadata": {},
   "outputs": [],
   "source": [
    "parser = StrOutputParser()\n",
    "\n",
    "prompt1 = PromptTemplate(\n",
    "    template='Generate short and simple notes from the following text \\n {text}',\n",
    "    input_variables=['text']\n",
    ")\n",
    "\n",
    "prompt2 = PromptTemplate(\n",
    "    template='Generate 5 short question answers from the following text \\n {text}',\n",
    "    input_variables=['text']\n",
    ")\n",
    "\n",
    "prompt3 = PromptTemplate(\n",
    "    template='Merge the provided notes and quiz into a single document \\n notes -> {notes} and quiz -> {quiz}',\n",
    "    input_variables=['notes', 'quiz']\n",
    ")"
   ]
  },
  {
   "cell_type": "code",
   "execution_count": 35,
   "id": "fdbf0b13",
   "metadata": {},
   "outputs": [],
   "source": [
    "parallel_chain = RunnableParallel({\n",
    "    'notes': prompt1 | model1 | parser,\n",
    "    'quiz': prompt2 | model2 | parser\n",
    "})\n",
    "\n",
    "merge_chain = prompt3 | model1 | parser\n",
    "\n",
    "chain = parallel_chain | merge_chain"
   ]
  },
  {
   "cell_type": "code",
   "execution_count": 37,
   "id": "232dd2b5",
   "metadata": {},
   "outputs": [
    {
     "name": "stdout",
     "output_type": "stream",
     "text": [
      "Here is the merged document:\n",
      "\n",
      "**Support Vector Machines (SVMs) Notes and Quiz**\n",
      "\n",
      "**What is SVM?**\n",
      "- Supervised learning method\n",
      "- Used for: classification, regression, outliers detection\n",
      "\n",
      "**Advantages:**\n",
      "1. Effective in high dimensional spaces\n",
      "2. Memory efficient (uses support vectors)\n",
      "3. Versatile (different kernel functions)\n",
      "\n",
      "**Disadvantages:**\n",
      "1. Risk of over-fitting if many features, few samples\n",
      "2. Doesn't directly provide probability estimates\n",
      "\n",
      "**Using SVM in scikit-learn:**\n",
      "- Supports dense and sparse input vectors\n",
      "- Optimal performance: C-ordered numpy.ndarray or scipy.sparse.csr_matrix with dtype=float64\n",
      "\n",
      "**Quiz: Support Vector Machines (SVMs)**\n",
      "\n",
      "1. **Q: What are Support Vector Machines (SVMs)?**\n",
      " **A:** SVMs are supervised learning methods used for classification, regression, and outlier detection.\n",
      "\n",
      "2. **Q: What is a key advantage of SVMs regarding high dimensionality?**\n",
      " **A:** SVMs are effective in high-dimensional spaces, even when the number of dimensions exceeds the number of samples.\n",
      "\n",
      "3. **Q: How do SVMs achieve memory efficiency?**\n",
      " **A:** SVMs use only a subset of training points (support vectors) in their decision function.\n",
      "\n",
      "4. **Q: What is a disadvantage of SVMs concerning probability estimates?**\n",
      " **A:** SVMs don't directly provide probability estimates; they require expensive five-fold cross-validation to calculate them.\n",
      "\n",
      "5. **Q: What data types do scikit-learn's SVMs support?**\n",
      " **A:** Scikit-learn's SVMs support both dense (numpy.ndarray) and sparse (scipy.sparse) sample vectors.\n"
     ]
    }
   ],
   "source": [
    "text = \"\"\"\n",
    "Support vector machines (SVMs) are a set of supervised learning methods used for classification, regression and outliers detection.\n",
    "\n",
    "The advantages of support vector machines are:\n",
    "\n",
    "Effective in high dimensional spaces.\n",
    "\n",
    "Still effective in cases where number of dimensions is greater than the number of samples.\n",
    "\n",
    "Uses a subset of training points in the decision function (called support vectors), so it is also memory efficient.\n",
    "\n",
    "Versatile: different Kernel functions can be specified for the decision function. Common kernels are provided, but it is also possible to specify custom kernels.\n",
    "\n",
    "The disadvantages of support vector machines include:\n",
    "\n",
    "If the number of features is much greater than the number of samples, avoid over-fitting in choosing Kernel functions and regularization term is crucial.\n",
    "\n",
    "SVMs do not directly provide probability estimates, these are calculated using an expensive five-fold cross-validation (see Scores and probabilities, below).\n",
    "\n",
    "The support vector machines in scikit-learn support both dense (numpy.ndarray and convertible to that by numpy.asarray) and sparse (any scipy.sparse) sample vectors as input. However, to use an SVM to make predictions for sparse data, it must have been fit on such data. For optimal performance, use C-ordered numpy.ndarray (dense) or scipy.sparse.csr_matrix (sparse) with dtype=float64.\n",
    "\"\"\"\n",
    "\n",
    "result = chain.invoke({'text':text})\n",
    "print(result)"
   ]
  },
  {
   "cell_type": "code",
   "execution_count": 36,
   "id": "95b77b5b",
   "metadata": {},
   "outputs": [
    {
     "name": "stdout",
     "output_type": "stream",
     "text": [
      "          +---------------------------+                \n",
      "          | Parallel<notes,quiz>Input |                \n",
      "          +---------------------------+                \n",
      "                ***             ***                    \n",
      "              **                   **                  \n",
      "            **                       **                \n",
      "+----------------+              +----------------+     \n",
      "| PromptTemplate |              | PromptTemplate |     \n",
      "+----------------+              +----------------+     \n",
      "          *                             *              \n",
      "          *                             *              \n",
      "          *                             *              \n",
      "    +----------+            +------------------------+ \n",
      "    | ChatGroq |            | ChatGoogleGenerativeAI | \n",
      "    +----------+            +------------------------+ \n",
      "          *                             *              \n",
      "          *                             *              \n",
      "          *                             *              \n",
      "+-----------------+            +-----------------+     \n",
      "| StrOutputParser |            | StrOutputParser |     \n",
      "+-----------------+            +-----------------+     \n",
      "                ***             ***                    \n",
      "                   **         **                       \n",
      "                     **     **                         \n",
      "          +----------------------------+               \n",
      "          | Parallel<notes,quiz>Output |               \n",
      "          +----------------------------+               \n",
      "                         *                             \n",
      "                         *                             \n",
      "                         *                             \n",
      "                +----------------+                     \n",
      "                | PromptTemplate |                     \n",
      "                +----------------+                     \n",
      "                         *                             \n",
      "                         *                             \n",
      "                         *                             \n",
      "                   +----------+                        \n",
      "                   | ChatGroq |                        \n",
      "                   +----------+                        \n",
      "                         *                             \n",
      "                         *                             \n",
      "                         *                             \n",
      "                +-----------------+                    \n",
      "                | StrOutputParser |                    \n",
      "                +-----------------+                    \n",
      "                         *                             \n",
      "                         *                             \n",
      "                         *                             \n",
      "            +-----------------------+                  \n",
      "            | StrOutputParserOutput |                  \n",
      "            +-----------------------+                  \n"
     ]
    }
   ],
   "source": [
    "chain.get_graph().print_ascii()"
   ]
  },
  {
   "cell_type": "markdown",
   "id": "38982652",
   "metadata": {},
   "source": [
    "### Conditional Chain"
   ]
  },
  {
   "cell_type": "code",
   "execution_count": 39,
   "id": "36be7d7b",
   "metadata": {},
   "outputs": [],
   "source": [
    "class Feedback(BaseModel):\n",
    "    sentiment: Literal['positive', 'negative'] = Field(description='Give the sentiment of the feedback')\n",
    "\n",
    "parser2 = PydanticOutputParser(pydantic_object=Feedback)\n",
    "parser = StrOutputParser()"
   ]
  },
  {
   "cell_type": "code",
   "execution_count": 40,
   "id": "459d9d4b",
   "metadata": {},
   "outputs": [],
   "source": [
    "prompt1 = PromptTemplate(\n",
    "    template='Classify the sentiment of the following feedback text into postive or negative \\n {feedback} \\n {format_instruction}',\n",
    "    input_variables=['feedback'],\n",
    "    partial_variables={'format_instruction':parser2.get_format_instructions()}\n",
    ")\n",
    "\n",
    "prompt2 = PromptTemplate(\n",
    "    template='Write an appropriate response to this positive feedback \\n {feedback}',\n",
    "    input_variables=['feedback']\n",
    ")\n",
    "\n",
    "prompt3 = PromptTemplate(\n",
    "    template='Write an appropriate response to this negative feedback \\n {feedback}',\n",
    "    input_variables=['feedback']\n",
    ")"
   ]
  },
  {
   "cell_type": "code",
   "execution_count": 44,
   "id": "f39552e7",
   "metadata": {},
   "outputs": [],
   "source": [
    "classifier_chain = prompt1 | model1 | parser2\n",
    "\n",
    "branch_chain = RunnableBranch(\n",
    "    (lambda x:x.sentiment == 'positive', prompt2 | model1 | parser),\n",
    "    (lambda x:x.sentiment == 'negative', prompt3 | model1 | parser),\n",
    "    RunnableLambda(lambda x: \"could not find sentiment\")\n",
    ")\n",
    "\n",
    "chain = classifier_chain | branch_chain"
   ]
  },
  {
   "cell_type": "code",
   "execution_count": 45,
   "id": "cc364aea",
   "metadata": {},
   "outputs": [
    {
     "name": "stdout",
     "output_type": "stream",
     "text": [
      "Here is a potential response:\n",
      "\n",
      "\"Thank you so much! I'm glad to hear that you're happy. Your satisfaction is my top priority, and I'm thrilled that I could meet your expectations. I appreciate your feedback and look forward to serving you again in the future!\"\n",
      "\n",
      "This response acknowledges the customer's positive sentiment, expresses gratitude, and shows appreciation for their feedback. \n",
      "\n",
      "If you want a shorter response, here are a few alternatives:\n",
      "\n",
      "* \"Thank you! I'm glad you're happy.\"\n",
      "* \"Thanks for your kind words! I'm glad I could meet your expectations.\"\n",
      "* \"Appreciate your feedback! Glad you're satisfied.\" \n",
      "\n",
      "Let me know if you need any adjustments.\n"
     ]
    }
   ],
   "source": [
    "chain = classifier_chain | branch_chain\n",
    "\n",
    "print(chain.invoke({'feedback': 'This is a beautiful phone'}))"
   ]
  },
  {
   "cell_type": "code",
   "execution_count": 46,
   "id": "a07e1f31",
   "metadata": {},
   "outputs": [
    {
     "name": "stdout",
     "output_type": "stream",
     "text": [
      "    +-------------+      \n",
      "    | PromptInput |      \n",
      "    +-------------+      \n",
      "            *            \n",
      "            *            \n",
      "            *            \n",
      "   +----------------+    \n",
      "   | PromptTemplate |    \n",
      "   +----------------+    \n",
      "            *            \n",
      "            *            \n",
      "            *            \n",
      "      +----------+       \n",
      "      | ChatGroq |       \n",
      "      +----------+       \n",
      "            *            \n",
      "            *            \n",
      "            *            \n",
      "+----------------------+ \n",
      "| PydanticOutputParser | \n",
      "+----------------------+ \n",
      "            *            \n",
      "            *            \n",
      "            *            \n",
      "       +--------+        \n",
      "       | Branch |        \n",
      "       +--------+        \n",
      "            *            \n",
      "            *            \n",
      "            *            \n",
      "    +--------------+     \n",
      "    | BranchOutput |     \n",
      "    +--------------+     \n"
     ]
    }
   ],
   "source": [
    "chain.get_graph().print_ascii()"
   ]
  }
 ],
 "metadata": {
  "kernelspec": {
   "display_name": ".venv",
   "language": "python",
   "name": "python3"
  },
  "language_info": {
   "codemirror_mode": {
    "name": "ipython",
    "version": 3
   },
   "file_extension": ".py",
   "mimetype": "text/x-python",
   "name": "python",
   "nbconvert_exporter": "python",
   "pygments_lexer": "ipython3",
   "version": "3.13.1"
  }
 },
 "nbformat": 4,
 "nbformat_minor": 5
}
